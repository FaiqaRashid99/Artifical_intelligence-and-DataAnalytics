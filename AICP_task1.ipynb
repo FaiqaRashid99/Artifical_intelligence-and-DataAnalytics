{
  "nbformat": 4,
  "nbformat_minor": 0,
  "metadata": {
    "colab": {
      "provenance": []
    },
    "kernelspec": {
      "name": "python3",
      "display_name": "Python 3"
    },
    "language_info": {
      "name": "python"
    }
  },
  "cells": [
    {
      "cell_type": "markdown",
      "source": [
        "**NumPy** is a Python package providing fast, flexible, and expressive data structures designed to make\n",
        "working with 'relational' or 'labeled' data both easy and intuitive. It aims to be the fundamental high-level\n",
        "building block for doing practical, real-world data analysis in Python.\n",
        "The best way we learn anything is by practice and exercise questions. Here you have the opportunity to\n",
        "practice the NumPy concepts by solving the exercises starting from basic to more complex exercises.\n",
        "Here are a few questions you’re supposed to answer after exploring NumPy on the Internet.\n",
        "1. Write a NumPy program to create an array of all even integers from 30 to 70.\n",
        "\n",
        "2. Write a NumPy program to generate an array of 15 random numbers from a standard normal\n",
        "distribution.\n","\n",
        "3. How to compute the cross-product of two matrices in NumPy?\n","\n",
        "4. How to compute the determinant of an array using NumPy?\n","\n",
        "5. How to create a 3x3x3 array with random values using NumPy?\n","\n",
        "6. How to create a 5x5 array with random values and find the minimum and maximum values using\n",
        "NumPy?\n","\n",
        "7. How to compute the mean, standard deviation, and variance of a given array along the second axis in\n",
        "NumPy?\n""\n",
      ],
      "metadata": {
        "id": "zIo_gjdjq-HK"
      }
    },
    {
      "cell_type": "markdown",
      "source": [
        "# 1. Write a NumPy program to create an array of all even integers from 30 to 70."
      ],
      "metadata": {
        "id": "ZMJI34MUsC7C"
      }
    },
    {
      "cell_type": "markdown",
      "source": [
        "even_array = np.arange(30, 72, 2): This line creates an array of even integers using NumPy's arange function. The parameters are:\n",
        "\n",
        "* **start**: Starting value of the sequence (inclusive), which is 30 in this case.\n",
        "\n",
        "\n",
        "* **stop**: Ending value of the sequence (exclusive), which is 72 in this case.\n",
        "* **step**: The step or the difference between consecutive values, which is 2 in this case."
      ],
      "metadata": {
        "id": "taDliqlEs4tx"
      }
    },
    {
      "cell_type": "code",
      "source": [
        "#import numpy\n",
        "import numpy as np"
      ],
      "metadata": {
        "id": "Dh-3EnQqZOId"
      },
      "execution_count": null,
      "outputs": []
    },
    {
      "cell_type": "code",
      "source": [
        "# Create an array of all even integers from 30 to 70\n",
        "array = np.arange(30, 71, 2)\n",
        "\n",
        "print(array)\n"
      ],
      "metadata": {
        "colab": {
          "base_uri": "https://localhost:8080/"
        },
        "id": "bP6EXe6TrAz3",
        "outputId": "ae2234a4-6e46-4d8e-c9cc-8887b71a1e7a"
      },
      "execution_count": null,
      "outputs": [
        {
          "output_type": "stream",
          "name": "stdout",
          "text": [
            "[30 32 34 36 38 40 42 44 46 48 50 52 54 56 58 60 62 64 66 68 70]\n"
          ]
        }
      ]
    },
    {
      "cell_type": "markdown",
      "source": [
        "# 2. Write a NumPy program to generate an array of 15 random numbers from a standard normal distribution.\n"
      ],
      "metadata": {
        "id": "kfuuxE0gtikH"
      }
    },
    {
      "cell_type": "code",
      "execution_count": null,
      "metadata": {
        "id": "mGfNaV_MU3sw",
        "colab": {
          "base_uri": "https://localhost:8080/"
        },
        "outputId": "7848852f-891d-47a0-f771-342a82b4dea7"
      },
      "outputs": [
        {
          "output_type": "stream",
          "name": "stdout",
          "text": [
            "[ 1.11159456 -1.66970934  0.14153691  1.13501773 -0.29778155 -0.03232771\n",
            " -0.23389887 -0.1741336   0.11121812 -0.94242606 -0.21214868  0.32700341\n",
            "  2.67931894 -0.02067602 -0.45701465]\n"
          ]
        }
      ],
      "source": [
        "# Generate an array of 15 random numbers from a standard normal distribution\n",
        "array = np.random.randn(15)\n",
        "\n",
        "print(array)\n"
      ]
    },
    {
      "cell_type": "markdown",
      "source": [
        "# 3. How to compute the cross-product of two matrices in NumPy?"
      ],
      "metadata": {
        "id": "_zH4Mvf3uEgK"
      }
    },
    {
      "cell_type": "code",
      "source": [
        "# Define the two matrices\n",
        "matrix_a = np.array([[1, 2, 3], [4, 5, 6], [7, 8, 9]])\n",
        "matrix_b = np.array([[9, 8, 7], [6, 5, 4], [3, 2, 1]])\n",
        "\n",
        "# Compute the cross-product using np.cross\n",
        "cross_product = np.cross(matrix_a, matrix_b)\n",
        "print(cross_product)\n"
      ],
      "metadata": {
        "colab": {
          "base_uri": "https://localhost:8080/"
        },
        "id": "iTnU-8mAyhU4",
        "outputId": "b1f5ed44-f75c-4dbf-a56b-27c1f91b4685"
      },
      "execution_count": null,
      "outputs": [
        {
          "output_type": "stream",
          "name": "stdout",
          "text": [
            "[[-10  20 -10]\n",
            " [-10  20 -10]\n",
            " [-10  20 -10]]\n"
          ]
        }
      ]
    },
    {
      "cell_type": "markdown",
      "source": [
        "# 4. How to compute the determinant of an array using NumPy?"
      ],
      "metadata": {
        "id": "L5l-zmE7u2lt"
      }
    },
    {
      "cell_type": "code",
      "source": [
        "# Define the array\n",
        "matrix = np.array([[1, 2], [3, 4]])\n",
        "\n",
        "# Compute the determinant using np.linalg.det \"NumPy Linear Algebra Determinant.\"\n",
        "determinant = np.linalg.det(matrix)\n",
        "\n",
        "print(determinant)\n"
      ],
      "metadata": {
        "colab": {
          "base_uri": "https://localhost:8080/"
        },
        "id": "Kv6s-1xAu4w8",
        "outputId": "f467f1f6-08ca-4123-d11f-ca18d342f11c"
      },
      "execution_count": null,
      "outputs": [
        {
          "output_type": "stream",
          "name": "stdout",
          "text": [
            "-2.0000000000000004\n"
          ]
        }
      ]
    },
    {
      "cell_type": "markdown",
      "source": [
        "# 5. How to create a 3x3x3 array with random values using NumPy?"
      ],
      "metadata": {
        "id": "EjPP4CzozJWU"
      }
    },
    {
      "cell_type": "code",
      "source": [
        "# Create a 3x3x3 array with random values\n",
        "array = np.random.rand(3, 3, 3) #3D array with dimensions 3x3x3.\n",
        "\n",
        "print(array)\n"
      ],
      "metadata": {
        "colab": {
          "base_uri": "https://localhost:8080/"
        },
        "id": "Qt_6YBJYzMRh",
        "outputId": "84f42f68-9a01-425b-e855-37d17e81b620"
      },
      "execution_count": null,
      "outputs": [
        {
          "output_type": "stream",
          "name": "stdout",
          "text": [
            "[[[0.35767295 0.83690587 0.63665326]\n",
            "  [0.51730853 0.02213486 0.80639711]\n",
            "  [0.24746885 0.96961819 0.8550722 ]]\n",
            "\n",
            " [[0.2142055  0.5132216  0.2898471 ]\n",
            "  [0.79214137 0.0320347  0.79625707]\n",
            "  [0.57242201 0.2357474  0.96407523]]\n",
            "\n",
            " [[0.16101603 0.459073   0.35356479]\n",
            "  [0.40222875 0.73159553 0.56739578]\n",
            "  [0.16070542 0.52010785 0.94032397]]]\n"
          ]
        }
      ]
    },
    {
      "cell_type": "markdown",
      "source": [
        "# 6. How to create a 5x5 array with random values and find the minimum and maximum values using NumPy?\n"
      ],
      "metadata": {
        "id": "weUT28bkz5y5"
      }
    },
    {
      "cell_type": "code",
      "source": [
        "# Create a 5x5 array with random values\n",
        "array = np.random.rand(5, 5)\n",
        "\n",
        "# Find the minimum value\n",
        "min_value = np.min(array)\n",
        "\n",
        "# Find the maximum value\n",
        "max_value = np.max(array)\n",
        "\n",
        "# Print the results\n",
        "print(array)\n",
        "print(\"Minimum value:\", min_value)\n",
        "print(\"Maximum value:\", max_value)\n"
      ],
      "metadata": {
        "colab": {
          "base_uri": "https://localhost:8080/"
        },
        "id": "WJDyHHRD0Gh_",
        "outputId": "b9af8c9b-dc26-41a3-970b-38e9b5e5f32b"
      },
      "execution_count": null,
      "outputs": [
        {
          "output_type": "stream",
          "name": "stdout",
          "text": [
            "[[0.47645573 0.83553112 0.61442697 0.54579119 0.81805019]\n",
            " [0.39162455 0.55821963 0.33344606 0.53427005 0.24917388]\n",
            " [0.15490297 0.33595028 0.27452296 0.55236207 0.09363995]\n",
            " [0.64040797 0.28446183 0.29179407 0.00333598 0.79259277]\n",
            " [0.52979279 0.76756429 0.5296971  0.26802471 0.68882984]]\n",
            "Minimum value: 0.0033359830327021056\n",
            "Maximum value: 0.8355311213285143\n"
          ]
        }
      ]
    },
    {
      "cell_type": "markdown",
      "source": [
        "# 7. How to compute the mean, standard deviation, and variance of a given array along the second axis in NumPy?"
      ],
      "metadata": {
        "id": "Kg94pS851HLB"
      }
    },
    {
      "cell_type": "code",
      "source": [
        "# Create a 3x3 array with random values\n",
        "array = np.random.rand(3, 3)\n",
        "\n",
        "# Compute the mean along the second axis\n",
        "mean = np.mean(array, axis=1)            #(axis=1), which corresponds to the mean for each row. It computes the average of the values in each row.\n",
        "\n",
        "# Compute the standard deviation along the second axis\n",
        "std = np.std(array, axis=1)\n",
        "\n",
        "# Compute the variance along the second axis\n",
        "var = np.var(array, axis=1)\n",
        "\n",
        "# Print the results\n",
        "print(\"Array:\",array)\n",
        "print(\"Mean:\", mean)\n",
        "print(\"Standard deviation:\", std)\n",
        "print(\"Variance:\", var)\n",
        "\n",
        "#The axis=1 parameter in the mean, std, and var functions specifies that the calculations are done along the second axis, i.e., along the rows.\n"
      ],
      "metadata": {
        "colab": {
          "base_uri": "https://localhost:8080/"
        },
        "id": "fe2NOLdU1Eap",
        "outputId": "dccd355b-8488-4a4f-be0a-b2f7a249f53f"
      },
      "execution_count": null,
      "outputs": [
        {
          "output_type": "stream",
          "name": "stdout",
          "text": [
            "Array: [[0.29440988 0.44013792 0.51059713]\n",
            " [0.24579983 0.87059314 0.31674206]\n",
            " [0.20630812 0.57334728 0.02058293]]\n",
            "Mean: [0.41504831 0.47771168 0.26674611]\n",
            "Standard deviation: [0.09002351 0.27931474 0.2296761 ]\n",
            "Variance: [0.00810423 0.07801672 0.05275111]\n"
          ]
        }
      ]
    }
  ]
}
